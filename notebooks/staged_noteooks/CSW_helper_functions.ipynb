{
 "cells": [
  {
   "cell_type": "code",
   "execution_count": 1,
   "metadata": {
    "collapsed": false
   },
   "outputs": [],
   "source": [
    "import os\n",
    "import sys\n",
    "\n",
    "ioos_tools = os.path.join(*[os.path.pardir]*2)\n",
    "sys.path.append(ioos_tools)"
   ]
  },
  {
   "cell_type": "code",
   "execution_count": 2,
   "metadata": {
    "collapsed": true
   },
   "outputs": [],
   "source": [
    "from datetime import datetime, timedelta\n",
    "\n",
    "# Region: West coast.\n",
    "bbox = [-123, 36, -121, 40]\n",
    "crs = 'urn:ogc:def:crs:OGC:1.3:CRS84'\n",
    "\n",
    "# Temporal range: Last week.\n",
    "now = datetime.utcnow()\n",
    "start, stop = now - timedelta(days=(7)), now\n",
    "\n",
    "# CF names for sea water temperature.\n",
    "cf_names = [\n",
    "    'sea_water_temperature',\n",
    "    'sea_surface_temperature',\n",
    "    'sea_water_potential_temperature',\n",
    "    'equivalent_potential_temperature',\n",
    "    'sea_water_conservative_temperature',\n",
    "    'pseudo_equivalent_potential_temperature'\n",
    "]\n",
    "\n",
    "# Catalogs to search.\n",
    "catalog = 'https://dev-catalog.ioos.us/csw'"
   ]
  },
  {
   "cell_type": "code",
   "execution_count": 3,
   "metadata": {
    "collapsed": false
   },
   "outputs": [],
   "source": [
    "from owslib import fes\n",
    "from ioos_tools.ioos import fes_date_filter\n",
    "\n",
    "kw = dict(wildCard='*', escapeChar='\\\\',\n",
    "          singleChar='?', propertyname='apiso:AnyText')\n",
    "\n",
    "or_filt = fes.Or([fes.PropertyIsLike(literal=('*%s*' % val), **kw)\n",
    "                  for val in cf_names])\n",
    "\n",
    "\n",
    "begin, end = fes_date_filter(start, stop)\n",
    "bbox_crs = fes.BBox(bbox, crs=crs)\n",
    "filter_list = [fes.And([bbox_crs, begin, end, or_filt])]"
   ]
  },
  {
   "cell_type": "code",
   "execution_count": 4,
   "metadata": {
    "collapsed": false
   },
   "outputs": [],
   "source": [
    "from owslib.csw import CatalogueServiceWeb\n",
    "\n",
    "\n",
    "csw = CatalogueServiceWeb(catalog, timeout=60)"
   ]
  },
  {
   "cell_type": "code",
   "execution_count": 5,
   "metadata": {
    "collapsed": false
   },
   "outputs": [],
   "source": [
    "from owslib.fes import SortBy, SortProperty\n",
    "\n",
    "\n",
    "def get_csw_records(csw, pagesize=10, maxrecords=1000):\n",
    "    \"\"\"\n",
    "    Iterate `maxrecords`/`pagesize` times until the request `maxrecords` is reached.\n",
    "    FIXME: Some record with the same key disapears when using dict update :-/\n",
    "    \n",
    "    \"\"\"\n",
    "    # Iterate over sorted results.\n",
    "    sortby = SortBy([SortProperty('dc:title', 'ASC')])\n",
    "    csw_records = {}\n",
    "    startposition = 0\n",
    "    \n",
    "    nextrecord = getattr(csw, 'results', 1)\n",
    "    while nextrecord != 0:\n",
    "        csw.getrecords2(constraints=filter_list, startposition=startposition,\n",
    "                        maxrecords=pagesize, sortby=sortby)\n",
    "        csw_records.update(csw.records)\n",
    "        if csw.results['nextrecord'] == 0:\n",
    "            break\n",
    "        startposition += pagesize + 1  # Last one is included.\n",
    "        if startposition >= maxrecords:\n",
    "            break\n",
    "    csw.records.update(csw_records)"
   ]
  },
  {
   "cell_type": "code",
   "execution_count": 6,
   "metadata": {
    "collapsed": false
   },
   "outputs": [
    {
     "data": {
      "text/plain": [
       "16"
      ]
     },
     "execution_count": 6,
     "metadata": {},
     "output_type": "execute_result"
    }
   ],
   "source": [
    "get_csw_records(csw, pagesize=10, maxrecords=1000)\n",
    "\n",
    "len(csw.records)"
   ]
  },
  {
   "cell_type": "code",
   "execution_count": 7,
   "metadata": {
    "collapsed": false
   },
   "outputs": [],
   "source": [
    "from geolinks import sniff_link\n",
    "\n",
    "\n",
    "def _parse_reference(ref, identifier):\n",
    "    \"\"\"\n",
    "    First try to sniff the scheme from the URL in the `ref` dict using geolinks,\n",
    "    if that fails get the `scheme` field directly.\n",
    "    \n",
    "    For all possible identifiers see:\n",
    "    https://github.com/OSGeo/Cat-Interop/blob/master/LinkPropertyLookupTable.csv\n",
    "    \n",
    "    \"\"\"\n",
    "    url = None\n",
    "    scheme = sniff_link(ref['url'])\n",
    "    if not scheme:\n",
    "        scheme = ref['scheme']\n",
    "    if identifier.endswith(':'):\n",
    "        cond = identifier in scheme\n",
    "    else:\n",
    "        cond = identifier == scheme\n",
    "    if cond:\n",
    "        url = ref['url']\n",
    "    return url\n",
    "\n",
    "\n",
    "def service_urls(records, identifier='OGC:SOS'):\n",
    "    \"\"\"\n",
    "    Extract service ULRs from csw records using geolink identifiers\n",
    "    (OPeNDAP:OPeNDAP, ERDDAP:griddap, ERDDAP:tabledap, OGC:SOS, etc).\n",
    "\n",
    "    \n",
    "    For all possible identifiers see:\n",
    "    https://github.com/OSGeo/Cat-Interop/blob/master/LinkPropertyLookupTable.csv\n",
    "    \n",
    "    If is possible to truncate ambiguous identifiers at the `:`,\n",
    "    and return everything that startswith that identifier.\n",
    "\n",
    "    \n",
    "    Examples\n",
    "    --------\n",
    "\n",
    "    \"\"\"\n",
    "    \n",
    "    urls = []\n",
    "    for key, rec in records.items():\n",
    "        for ref in rec.references:\n",
    "            url = _parse_reference(ref, identifier)\n",
    "            if url:\n",
    "                urls.append(url)\n",
    "    return sorted(set(urls))"
   ]
  },
  {
   "cell_type": "code",
   "execution_count": 8,
   "metadata": {
    "collapsed": false
   },
   "outputs": [
    {
     "data": {
      "text/plain": [
       "['http://data.ioos.us/thredds/sos/deployments/drudnick/sp025-20160913T1826/sp025-20160913T1826.nc3.nc?service=SOS&version=1.0.0&request=GetCapabilities']"
      ]
     },
     "execution_count": 8,
     "metadata": {},
     "output_type": "execute_result"
    }
   ],
   "source": [
    "service_urls(csw.records, identifier='OGC:SOS')"
   ]
  },
  {
   "cell_type": "code",
   "execution_count": 9,
   "metadata": {
    "collapsed": false
   },
   "outputs": [
    {
     "data": {
      "text/plain": [
       "['http://data.ioos.us/thredds/dodsC/deployments/drudnick/sp025-20160913T1826/sp025-20160913T1826.nc3.nc',\n",
       " 'http://oos.soest.hawaii.edu/thredds/dodsC/hioos/model/atm/ncep_global/NCEP_Global_Atmospheric_Model_best.ncd',\n",
       " 'http://oos.soest.hawaii.edu/thredds/dodsC/pacioos/hycom/global']"
      ]
     },
     "execution_count": 9,
     "metadata": {},
     "output_type": "execute_result"
    }
   ],
   "source": [
    "service_urls(csw.records, identifier='OPeNDAP:OPeNDAP')"
   ]
  },
  {
   "cell_type": "code",
   "execution_count": 10,
   "metadata": {
    "collapsed": false
   },
   "outputs": [
    {
     "data": {
      "text/plain": [
       "['http://oos.soest.hawaii.edu/erddap/griddap/HYCOM_Global_2D.graph',\n",
       " 'http://oos.soest.hawaii.edu/erddap/griddap/HYCOM_Global_3D.graph',\n",
       " 'http://oos.soest.hawaii.edu/erddap/griddap/NCEP_Global_Best.graph']"
      ]
     },
     "execution_count": 10,
     "metadata": {},
     "output_type": "execute_result"
    }
   ],
   "source": [
    "service_urls(csw.records, identifier='ERDDAP:griddap')"
   ]
  },
  {
   "cell_type": "code",
   "execution_count": 11,
   "metadata": {
    "collapsed": false
   },
   "outputs": [
    {
     "data": {
      "text/plain": [
       "[]"
      ]
     },
     "execution_count": 11,
     "metadata": {},
     "output_type": "execute_result"
    }
   ],
   "source": [
    "service_urls(csw.records, identifier='ERDDAP:tabledap')"
   ]
  },
  {
   "cell_type": "code",
   "execution_count": 12,
   "metadata": {
    "collapsed": false
   },
   "outputs": [
    {
     "data": {
      "text/plain": [
       "['http://oos.soest.hawaii.edu/erddap/griddap/HYCOM_Global_2D.graph',\n",
       " 'http://oos.soest.hawaii.edu/erddap/griddap/HYCOM_Global_3D.graph',\n",
       " 'http://oos.soest.hawaii.edu/erddap/griddap/NCEP_Global_Best.graph']"
      ]
     },
     "execution_count": 12,
     "metadata": {},
     "output_type": "execute_result"
    }
   ],
   "source": [
    "service_urls(csw.records, identifier='ERDDAP:')"
   ]
  },
  {
   "cell_type": "markdown",
   "metadata": {},
   "source": [
    "Check all available schemes."
   ]
  },
  {
   "cell_type": "code",
   "execution_count": 13,
   "metadata": {
    "collapsed": false,
    "scrolled": false
   },
   "outputs": [
    {
     "name": "stdout",
     "output_type": "stream",
     "text": [
      "[Directional wave and sea surface temperature measurements collected in situ by Datawell Mark 3 directional buoy located near SAN FRANCISCO BAR, CA from 2016/04/20 17:00:00 to 2016/11/21 23:53:57.]:\n",
      "\n",
      "[Directional wave and sea surface temperature measurements collected in situ by Datawell Mark 3 directional buoy located near SCRIPPS NEARSHORE, CA from 2015/01/07 23:00:00 to 2016/11/22 00:01:07.]:\n",
      "\n",
      "[HYbrid Coordinate Ocean Model (HYCOM): Global]:\n",
      "\n",
      "geolink: None\n",
      "scheme: http\n",
      "URL: http://oos.soest.hawaii.edu/thredds/idd/ocn_mod.html?dataset=hycom_global\n",
      "\n",
      "geolink: WWW:LINK\n",
      "scheme: http\n",
      "URL: http://oos.soest.hawaii.edu/thredds/dodsC/pacioos/hycom/global.html\n",
      "\n",
      "geolink: None\n",
      "scheme: http\n",
      "URL: http://pacioos.org/voyager/index.html?b=-85.200475%2C-180%2C85.200475%2C180&o=ofore:5:f:d1\n",
      "\n",
      "geolink: None\n",
      "scheme: NOAA:LAS\n",
      "URL: http://oos.soest.hawaii.edu/las/UI.vm?catid=hycom_global&dsid=hycom_global&varid=temperature-hycom_global\n",
      "\n",
      "geolink: None\n",
      "scheme: ERDDAP:griddap\n",
      "URL: http://oos.soest.hawaii.edu/erddap/griddap/HYCOM_Global_3D.graph\n",
      "\n",
      "geolink: None\n",
      "scheme: ERDDAP:griddap\n",
      "URL: http://oos.soest.hawaii.edu/erddap/griddap/HYCOM_Global_2D.graph\n",
      "\n",
      "geolink: None\n",
      "scheme: OPeNDAP:OPeNDAP\n",
      "URL: http://oos.soest.hawaii.edu/thredds/dodsC/pacioos/hycom/global\n",
      "\n",
      "geolink: OGC:WCS\n",
      "scheme: OGC:WCS\n",
      "URL: http://oos.soest.hawaii.edu/thredds/wcs/pacioos/hycom/global?service=WCS&version=1.0.0&request=GetCapabilities\n",
      "\n",
      "geolink: OGC:WMS\n",
      "scheme: OGC:WMS\n",
      "URL: http://oos.soest.hawaii.edu/thredds/wms/pacioos/hycom/global?service=WMS&version=1.3.0&request=GetCapabilities\n",
      "\n",
      "geolink: UNIDATA:NCSS\n",
      "scheme: UNIDATA:NCSS\n",
      "URL: http://oos.soest.hawaii.edu/thredds/ncss/pacioos/hycom/global/dataset.html\n",
      "\n",
      "[NOAA/NCEP Global Forecast System (GFS) Atmospheric Model]:\n",
      "\n",
      "geolink: None\n",
      "scheme: http\n",
      "URL: http://oos.soest.hawaii.edu/thredds/catalog/hioos/model/atm/ncep_global/catalog.html?dataset=hioos/model/atm/ncep_global/NCEP_Global_Atmospheric_Model_best.ncd\n",
      "\n",
      "geolink: WWW:LINK\n",
      "scheme: http\n",
      "URL: http://oos.soest.hawaii.edu/thredds/dodsC/hioos/model/atm/ncep_global/NCEP_Global_Atmospheric_Model_best.ncd.html\n",
      "\n",
      "geolink: None\n",
      "scheme: http\n",
      "URL: http://pacioos.org/voyager/index.html?b=-85.200475%2C-180%2C85.200475%2C180&t=h&o=wfore:6:f:d1\n",
      "\n",
      "geolink: None\n",
      "scheme: http\n",
      "URL: http://pacioos.org/weather/model-wind-global/\n",
      "\n",
      "geolink: None\n",
      "scheme: NOAA:LAS\n",
      "URL: http://oos.soest.hawaii.edu/las/UI.vm?catid=ncep_global&dsid=ncep_global&varid=tmpsfc-ncep_global\n",
      "\n",
      "geolink: None\n",
      "scheme: ERDDAP:griddap\n",
      "URL: http://oos.soest.hawaii.edu/erddap/griddap/NCEP_Global_Best.graph\n",
      "\n",
      "geolink: None\n",
      "scheme: OPeNDAP:OPeNDAP\n",
      "URL: http://oos.soest.hawaii.edu/thredds/dodsC/hioos/model/atm/ncep_global/NCEP_Global_Atmospheric_Model_best.ncd\n",
      "\n",
      "geolink: OGC:WCS\n",
      "scheme: OGC:WCS\n",
      "URL: http://oos.soest.hawaii.edu/thredds/wcs/hioos/model/atm/ncep_global/NCEP_Global_Atmospheric_Model_best.ncd?service=WCS&version=1.0.0&request=GetCapabilities\n",
      "\n",
      "geolink: OGC:WMS\n",
      "scheme: OGC:WMS\n",
      "URL: http://oos.soest.hawaii.edu/thredds/wms/hioos/model/atm/ncep_global/NCEP_Global_Atmospheric_Model_best.ncd?service=WMS&version=1.3.0&request=GetCapabilities\n",
      "\n",
      "geolink: UNIDATA:NCSS\n",
      "scheme: UNIDATA:NCSS\n",
      "URL: http://oos.soest.hawaii.edu/thredds/ncss/hioos/model/atm/ncep_global/NCEP_Global_Atmospheric_Model_best.ncd/dataset.html\n",
      "\n",
      "[sp025-20160913T1826]:\n",
      "\n",
      "geolink: WWW:LINK\n",
      "scheme: WWW:LINK\n",
      "URL: http://data.ioos.us/thredds/dodsC/deployments/drudnick/sp025-20160913T1826/sp025-20160913T1826.nc3.nc.html\n",
      "\n",
      "geolink: None\n",
      "scheme: WWW:LINK\n",
      "URL: http://www.ncdc.noaa.gov/oa/wct/wct-jnlp-beta.php?singlefile=http://data.ioos.us/thredds/dodsC/deployments/drudnick/sp025-20160913T1826/sp025-20160913T1826.nc3.nc\n",
      "\n",
      "geolink: None\n",
      "scheme: OPeNDAP:OPeNDAP\n",
      "URL: http://data.ioos.us/thredds/dodsC/deployments/drudnick/sp025-20160913T1826/sp025-20160913T1826.nc3.nc\n",
      "\n",
      "geolink: OGC:SOS\n",
      "scheme: OGC:SOS\n",
      "URL: http://data.ioos.us/thredds/sos/deployments/drudnick/sp025-20160913T1826/sp025-20160913T1826.nc3.nc?service=SOS&version=1.0.0&request=GetCapabilities\n",
      "\n",
      "geolink: None\n",
      "scheme: file\n",
      "URL: http://data.ioos.us/thredds/fileServer/deployments/drudnick/sp025-20160913T1826/sp025-20160913T1826.nc3.nc\n",
      "\n",
      "[sp025-20160913T1826]:\n",
      "\n",
      "geolink: WWW:LINK\n",
      "scheme: order\n",
      "URL: https://data.ioos.us/gliders/erddap/tabledap/sp025-20160913T1826.html\n",
      "\n",
      "geolink: None\n",
      "scheme: order\n",
      "URL: https://data.ioos.us/gliders/erddap/tabledap/sp025-20160913T1826.graph\n",
      "\n",
      "geolink: None\n",
      "scheme: .html\n",
      "URL: https://data.ioos.us/gliders/erddap/tabledap/sp025-20160913T1826\n",
      "\n",
      "geolink: None\n",
      "scheme: .html\n",
      "URL: https://data.ioos.us/gliders/erddap/tabledap/sp025-20160913T1826\n",
      "\n",
      "geolink: None\n",
      "scheme: search\n",
      "URL: https://data.ioos.us/gliders/erddap/tabledap/sp025-20160913T1826.subset\n",
      "\n",
      "[Directional wave and sea surface temperature measurements collected in situ by Datawell Mark 3 directional buoy located near MONTEREY BAY WEST, CA from 2016/08/03 04:00:00 to 2016/11/22 00:01:41.]:\n",
      "\n",
      "[Directional wave and sea surface temperature measurements collected in situ by Datawell Mark 3 directional buoy located near GRAYS HARBOR, WA from 2016/03/16 22:00:00 to 2016/11/21 23:53:41.]:\n",
      "\n",
      "[Directional wave and sea surface temperature measurements collected in situ by Datawell Mark 3 directional buoy located near OCEAN STATION PAPA from 2015/01/01 01:00:00 to 2016/11/22 00:00:32.]:\n",
      "\n",
      "[Directional wave and sea surface temperature measurements collected in situ by Datawell Mark 3 directional buoy located near POINT SUR, CA from 2016/08/02 21:00:00 to 2016/11/21 23:53:37.]:\n",
      "\n",
      "[Directional wave and sea surface temperature measurements collected in situ by Datawell Mark 3 directional buoy located near CABRILLO POINT NEARSHORE, CA from 2015/09/15 19:00:00 to 2016/11/21 23:51:34.]:\n",
      "\n",
      "[Directional wave and sea surface temperature measurements collected in situ by Datawell Mark 3 directional buoy located near CAPE MENDOCINO, CA from 2016/10/12 22:00:00 to 2016/11/21 23:54:52.]:\n",
      "\n",
      "[Directional wave and sea surface temperature measurements collected in situ by Datawell Mark 3 directional buoy located near LOWER COOK INLET, AK from 2015/04/13 19:00:00 to 2016/11/21 23:54:44.]:\n",
      "\n",
      "[Directional wave and sea surface temperature measurements collected in situ by Datawell Mark 3 directional buoy located near ASTORIA CANYON, OR from 2016/03/30 17:00:00 to 2016/11/22 00:02:21.]:\n",
      "\n",
      "[Directional wave and sea surface temperature measurements collected in situ by Datawell Mark 3 directional buoy located near POINT REYES, CA from 2015/12/02 18:00:00 to 2016/11/21 23:53:32.]:\n",
      "\n",
      "[Directional wave and sea surface temperature measurements collected in situ by Datawell Mark 3 directional buoy located near CLATSOP SPIT, OR from 2016/10/12 17:00:00 to 2016/11/22 00:02:26.]:\n",
      "\n"
     ]
    }
   ],
   "source": [
    "msg = 'geolink: {geolink}\\nscheme: {scheme}\\nURL: {url}\\n'.format\n",
    "for key, value in list(csw.records.items()):\n",
    "    print('[{}]:\\n'.format(value.title, key))\n",
    "    \n",
    "    for ref in value.references:\n",
    "        print(msg(geolink=sniff_link(ref['url']), **ref))"
   ]
  }
 ],
 "metadata": {
  "gist_id": "a7b1f1d5a6ab01a8ee7212fe9a0e60e7",
  "kernelspec": {
   "display_name": "Python [default]",
   "language": "python",
   "name": "python3"
  },
  "language_info": {
   "codemirror_mode": {
    "name": "ipython",
    "version": 3
   },
   "file_extension": ".py",
   "mimetype": "text/x-python",
   "name": "python",
   "nbconvert_exporter": "python",
   "pygments_lexer": "ipython3",
   "version": "3.5.2"
  }
 },
 "nbformat": 4,
 "nbformat_minor": 1
}
